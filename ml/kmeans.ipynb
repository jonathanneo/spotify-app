{
 "metadata": {
  "language_info": {
   "codemirror_mode": {
    "name": "ipython",
    "version": 3
   },
   "file_extension": ".py",
   "mimetype": "text/x-python",
   "name": "python",
   "nbconvert_exporter": "python",
   "pygments_lexer": "ipython3",
   "version": "3.8.5-final"
  },
  "orig_nbformat": 2,
  "kernelspec": {
   "name": "python3",
   "display_name": "Python 3.8.5 64-bit ('spotify': conda)",
   "metadata": {
    "interpreter": {
     "hash": "a6734130388b60d2adfe9a41ba3ffb192d5b173694da81b45e75d546d4eae05c"
    }
   }
  }
 },
 "nbformat": 4,
 "nbformat_minor": 2,
 "cells": [
  {
   "cell_type": "code",
   "execution_count": 1,
   "metadata": {},
   "outputs": [],
   "source": [
    "import matplotlib.pyplot as plt\n",
    "from kneed import KneeLocator\n",
    "from sklearn.cluster import KMeans\n",
    "from sklearn.metrics import silhouette_score\n",
    "from sklearn.preprocessing import StandardScaler\n",
    "import pandas as pd \n",
    "import joblib"
   ]
  },
  {
   "cell_type": "code",
   "execution_count": 2,
   "metadata": {},
   "outputs": [
    {
     "output_type": "execute_result",
     "data": {
      "text/plain": [
       "                        acousticness                    artists  danceability  \\\n",
       "id                                                                              \n",
       "0cS0A1fUEUd1EW3FcF8AEI      0.991000            ['Mamie Smith']         0.598   \n",
       "0hbkKFIJm7Z05H8Zl9w30f      0.643000  [\"Screamin' Jay Hawkins\"]         0.852   \n",
       "11m7laMUgmOKqI3oYzuhne      0.993000            ['Mamie Smith']         0.647   \n",
       "19Lc5SfJJ5O1oaxY0fpwfh      0.000173        ['Oscar Velazquez']         0.730   \n",
       "2hJjbsLCytGsnAHfdsLejp      0.295000                   ['Mixe']         0.704   \n",
       "\n",
       "                        duration_ms  energy  explicit  instrumentalness  key  \\\n",
       "id                                                                             \n",
       "0cS0A1fUEUd1EW3FcF8AEI       168333   0.224         0          0.000522    5   \n",
       "0hbkKFIJm7Z05H8Zl9w30f       150200   0.517         0          0.026400    5   \n",
       "11m7laMUgmOKqI3oYzuhne       163827   0.186         0          0.000018    0   \n",
       "19Lc5SfJJ5O1oaxY0fpwfh       422087   0.798         0          0.801000    2   \n",
       "2hJjbsLCytGsnAHfdsLejp       165224   0.707         1          0.000246   10   \n",
       "\n",
       "                        liveness  loudness  mode  \\\n",
       "id                                                 \n",
       "0cS0A1fUEUd1EW3FcF8AEI    0.3790   -12.628     0   \n",
       "0hbkKFIJm7Z05H8Zl9w30f    0.0809    -7.261     0   \n",
       "11m7laMUgmOKqI3oYzuhne    0.5190   -12.098     1   \n",
       "19Lc5SfJJ5O1oaxY0fpwfh    0.1280    -7.311     1   \n",
       "2hJjbsLCytGsnAHfdsLejp    0.4020    -6.036     0   \n",
       "\n",
       "                                                                     name  \\\n",
       "id                                                                          \n",
       "0cS0A1fUEUd1EW3FcF8AEI                           Keep A Song In Your Soul   \n",
       "0hbkKFIJm7Z05H8Zl9w30f                               I Put A Spell On You   \n",
       "11m7laMUgmOKqI3oYzuhne                                       Golfing Papa   \n",
       "19Lc5SfJJ5O1oaxY0fpwfh  True House Music - Xavier Santos & Carlos Gomi...   \n",
       "2hJjbsLCytGsnAHfdsLejp                                          Xuniverxe   \n",
       "\n",
       "                        popularity release_date  speechiness    tempo  \\\n",
       "id                                                                      \n",
       "0cS0A1fUEUd1EW3FcF8AEI          12         1920       0.0936  149.976   \n",
       "0hbkKFIJm7Z05H8Zl9w30f           7   1920-01-05       0.0534   86.889   \n",
       "11m7laMUgmOKqI3oYzuhne           4         1920       0.1740   97.600   \n",
       "19Lc5SfJJ5O1oaxY0fpwfh          17   1920-01-01       0.0425  127.997   \n",
       "2hJjbsLCytGsnAHfdsLejp           2   1920-10-01       0.0768  122.076   \n",
       "\n",
       "                        valence  year  \n",
       "id                                     \n",
       "0cS0A1fUEUd1EW3FcF8AEI   0.6340  1920  \n",
       "0hbkKFIJm7Z05H8Zl9w30f   0.9500  1920  \n",
       "11m7laMUgmOKqI3oYzuhne   0.6890  1920  \n",
       "19Lc5SfJJ5O1oaxY0fpwfh   0.0422  1920  \n",
       "2hJjbsLCytGsnAHfdsLejp   0.2990  1920  "
      ],
      "text/html": "<div>\n<style scoped>\n    .dataframe tbody tr th:only-of-type {\n        vertical-align: middle;\n    }\n\n    .dataframe tbody tr th {\n        vertical-align: top;\n    }\n\n    .dataframe thead th {\n        text-align: right;\n    }\n</style>\n<table border=\"1\" class=\"dataframe\">\n  <thead>\n    <tr style=\"text-align: right;\">\n      <th></th>\n      <th>acousticness</th>\n      <th>artists</th>\n      <th>danceability</th>\n      <th>duration_ms</th>\n      <th>energy</th>\n      <th>explicit</th>\n      <th>instrumentalness</th>\n      <th>key</th>\n      <th>liveness</th>\n      <th>loudness</th>\n      <th>mode</th>\n      <th>name</th>\n      <th>popularity</th>\n      <th>release_date</th>\n      <th>speechiness</th>\n      <th>tempo</th>\n      <th>valence</th>\n      <th>year</th>\n    </tr>\n    <tr>\n      <th>id</th>\n      <th></th>\n      <th></th>\n      <th></th>\n      <th></th>\n      <th></th>\n      <th></th>\n      <th></th>\n      <th></th>\n      <th></th>\n      <th></th>\n      <th></th>\n      <th></th>\n      <th></th>\n      <th></th>\n      <th></th>\n      <th></th>\n      <th></th>\n      <th></th>\n    </tr>\n  </thead>\n  <tbody>\n    <tr>\n      <th>0cS0A1fUEUd1EW3FcF8AEI</th>\n      <td>0.991000</td>\n      <td>['Mamie Smith']</td>\n      <td>0.598</td>\n      <td>168333</td>\n      <td>0.224</td>\n      <td>0</td>\n      <td>0.000522</td>\n      <td>5</td>\n      <td>0.3790</td>\n      <td>-12.628</td>\n      <td>0</td>\n      <td>Keep A Song In Your Soul</td>\n      <td>12</td>\n      <td>1920</td>\n      <td>0.0936</td>\n      <td>149.976</td>\n      <td>0.6340</td>\n      <td>1920</td>\n    </tr>\n    <tr>\n      <th>0hbkKFIJm7Z05H8Zl9w30f</th>\n      <td>0.643000</td>\n      <td>[\"Screamin' Jay Hawkins\"]</td>\n      <td>0.852</td>\n      <td>150200</td>\n      <td>0.517</td>\n      <td>0</td>\n      <td>0.026400</td>\n      <td>5</td>\n      <td>0.0809</td>\n      <td>-7.261</td>\n      <td>0</td>\n      <td>I Put A Spell On You</td>\n      <td>7</td>\n      <td>1920-01-05</td>\n      <td>0.0534</td>\n      <td>86.889</td>\n      <td>0.9500</td>\n      <td>1920</td>\n    </tr>\n    <tr>\n      <th>11m7laMUgmOKqI3oYzuhne</th>\n      <td>0.993000</td>\n      <td>['Mamie Smith']</td>\n      <td>0.647</td>\n      <td>163827</td>\n      <td>0.186</td>\n      <td>0</td>\n      <td>0.000018</td>\n      <td>0</td>\n      <td>0.5190</td>\n      <td>-12.098</td>\n      <td>1</td>\n      <td>Golfing Papa</td>\n      <td>4</td>\n      <td>1920</td>\n      <td>0.1740</td>\n      <td>97.600</td>\n      <td>0.6890</td>\n      <td>1920</td>\n    </tr>\n    <tr>\n      <th>19Lc5SfJJ5O1oaxY0fpwfh</th>\n      <td>0.000173</td>\n      <td>['Oscar Velazquez']</td>\n      <td>0.730</td>\n      <td>422087</td>\n      <td>0.798</td>\n      <td>0</td>\n      <td>0.801000</td>\n      <td>2</td>\n      <td>0.1280</td>\n      <td>-7.311</td>\n      <td>1</td>\n      <td>True House Music - Xavier Santos &amp; Carlos Gomi...</td>\n      <td>17</td>\n      <td>1920-01-01</td>\n      <td>0.0425</td>\n      <td>127.997</td>\n      <td>0.0422</td>\n      <td>1920</td>\n    </tr>\n    <tr>\n      <th>2hJjbsLCytGsnAHfdsLejp</th>\n      <td>0.295000</td>\n      <td>['Mixe']</td>\n      <td>0.704</td>\n      <td>165224</td>\n      <td>0.707</td>\n      <td>1</td>\n      <td>0.000246</td>\n      <td>10</td>\n      <td>0.4020</td>\n      <td>-6.036</td>\n      <td>0</td>\n      <td>Xuniverxe</td>\n      <td>2</td>\n      <td>1920-10-01</td>\n      <td>0.0768</td>\n      <td>122.076</td>\n      <td>0.2990</td>\n      <td>1920</td>\n    </tr>\n  </tbody>\n</table>\n</div>"
     },
     "metadata": {},
     "execution_count": 2
    }
   ],
   "source": [
    "filePath = \"data/data.csv\" \n",
    "spotify_df = pd.read_csv(filePath)\n",
    "spotify_df = spotify_df.set_index(\"id\")\n",
    "spotify_df.head(5)"
   ]
  },
  {
   "cell_type": "code",
   "execution_count": 3,
   "metadata": {},
   "outputs": [],
   "source": [
    "spotify_df_features = spotify_df[[\"acousticness\", \"danceability\", \"duration_ms\", \"energy\", \"instrumentalness\", \"key\", \"liveness\", \"loudness\", \"speechiness\", \"tempo\", \"valence\"]]"
   ]
  },
  {
   "cell_type": "code",
   "execution_count": 4,
   "metadata": {},
   "outputs": [],
   "source": [
    "scaler = StandardScaler()\n",
    "spotify_scaler = scaler.fit(spotify_df_features) # save later \n",
    "spotify_df_scaled = spotify_scaler.transform(spotify_df_features)"
   ]
  },
  {
   "cell_type": "code",
   "execution_count": 5,
   "metadata": {},
   "outputs": [],
   "source": [
    "run_analysis = False "
   ]
  },
  {
   "cell_type": "code",
   "execution_count": 6,
   "metadata": {},
   "outputs": [],
   "source": [
    "kmeans_kwargs = {\n",
    "    \"init\": \"k-means++\",\n",
    "    \"n_init\": 10,\n",
    "    \"max_iter\": 300,\n",
    "    \"random_state\": 42\n",
    "}\n",
    "\n",
    "if run_analysis: \n",
    "    n_cluster_start = 2\n",
    "    n_cluster_end = 25 \n",
    "\n",
    "    sse = []\n",
    "    silhouette_coefficients = []\n",
    "    for i in range(n_cluster_start, n_cluster_end): \n",
    "        kmeans = KMeans(n_clusters=i, **kmeans_kwargs)\n",
    "        kmeans.fit(spotify_df_scaled)\n",
    "        sse.append(kmeans.inertia_)\n",
    "        score = silhouette_score(spotify_df_scaled, kmeans.labels_) \n",
    "        silhouette_coefficients.append(score)"
   ]
  },
  {
   "cell_type": "code",
   "execution_count": 7,
   "metadata": {},
   "outputs": [],
   "source": [
    "if run_analysis:\n",
    "    plt.plot(range(n_cluster_start, n_cluster_end), sse)\n",
    "    plt.xticks(range(n_cluster_start, n_cluster_end))\n",
    "    plt.xlabel(\"Number of Clusters\")\n",
    "    plt.ylabel(\"SSE\")\n",
    "    plt.show()"
   ]
  },
  {
   "cell_type": "code",
   "execution_count": 8,
   "metadata": {},
   "outputs": [],
   "source": [
    "if run_analysis:\n",
    "    kl = KneeLocator(range(n_cluster_start,n_cluster_end), sse, curve=\"convex\", direction=\"decreasing\")\n",
    "    kl.elbow"
   ]
  },
  {
   "cell_type": "code",
   "execution_count": 9,
   "metadata": {},
   "outputs": [],
   "source": [
    "if run_analysis:\n",
    "    plt.plot(range(n_cluster_start, n_cluster_end), silhouette_coefficients)\n",
    "    plt.xticks(range(n_cluster_start, n_cluster_end))\n",
    "    plt.xlabel(\"Number of Clusters\")\n",
    "    plt.ylabel(\"Silhouette Coefficient\")\n",
    "    plt.show()"
   ]
  },
  {
   "cell_type": "code",
   "execution_count": 10,
   "metadata": {},
   "outputs": [
    {
     "output_type": "execute_result",
     "data": {
      "text/plain": [
       "KMeans(n_clusters=25, random_state=42)"
      ]
     },
     "metadata": {},
     "execution_count": 10
    }
   ],
   "source": [
    "# create model from elbow \n",
    "kmeans = KMeans(n_clusters=25, **kmeans_kwargs)\n",
    "kmeans.fit(spotify_df_scaled)"
   ]
  },
  {
   "cell_type": "code",
   "execution_count": 11,
   "metadata": {},
   "outputs": [
    {
     "output_type": "execute_result",
     "data": {
      "text/plain": [
       "array([[-1.07656218e+00, -9.28081457e-01,  5.55762824e-02,\n",
       "         1.11514250e+00, -4.76923179e-01, -2.91540229e-01,\n",
       "        -1.06824378e-01,  8.55899894e-01, -7.42965374e-02,\n",
       "         1.67657852e+00, -2.45419643e-01],\n",
       "       [ 4.14023761e-01,  2.17798024e-01, -2.85986800e-01,\n",
       "         1.77735159e-01, -4.69188481e-01, -4.23632306e-02,\n",
       "         1.50860169e+00,  3.46253756e-01, -1.01726763e-01,\n",
       "        -2.61065267e-01,  8.09035760e-01],\n",
       "       [ 1.05299659e+00, -7.66023378e-01, -2.47247301e-02,\n",
       "        -1.06794115e+00,  1.89254006e+00, -1.93479451e-01,\n",
       "        -3.43991846e-01, -1.22514424e+00, -2.73524271e-01,\n",
       "         8.93824390e-01, -7.76090922e-01],\n",
       "       [-1.10631707e+00, -7.19025994e-02,  1.15040783e-02,\n",
       "         1.23438962e+00, -4.88123103e-01, -9.15462556e-01,\n",
       "         2.98713945e-02,  9.84291944e-01, -1.41254611e-01,\n",
       "        -1.10239290e-01, -1.37429775e-01],\n",
       "       [-9.05715343e-01,  2.65061297e-01, -1.33599479e-01,\n",
       "         1.04024870e+00, -4.94666593e-01,  8.59770923e-01,\n",
       "        -1.74171187e-01,  7.92064776e-01, -1.26220285e-01,\n",
       "         1.03018367e+00,  8.97983353e-01],\n",
       "       [ 8.20259256e-01, -6.94166165e-01,  1.30828065e-01,\n",
       "        -5.61618819e-01,  2.32068746e-01, -4.05463485e-02,\n",
       "         2.91205100e+00, -6.06405834e-01, -7.44427429e-02,\n",
       "        -3.46446433e-01, -5.50348191e-01],\n",
       "       [-8.27037801e-01,  1.15554157e+00,  3.48840896e-02,\n",
       "         6.59219021e-01, -5.15916590e-01,  8.47570355e-01,\n",
       "        -3.77849531e-01,  6.00570155e-01, -4.91805897e-02,\n",
       "        -3.50486053e-01,  8.63658840e-01],\n",
       "       [ 5.11109251e-02,  8.16955568e-01, -5.33540220e-01,\n",
       "        -8.83990381e-01, -5.70461018e-01, -3.79979106e-03,\n",
       "         3.96248747e-01, -1.37166081e+00,  4.43829073e+00,\n",
       "        -3.20738504e-01,  6.75143204e-02],\n",
       "       [ 6.78761616e-01,  5.46720690e-01, -2.90408270e-01,\n",
       "        -3.98288062e-01, -4.78057888e-01,  9.03461032e-01,\n",
       "        -3.29137230e-01, -6.62982187e-03, -1.80979956e-01,\n",
       "        -1.98688244e-01,  6.32923500e-01],\n",
       "       [ 8.88832136e-01, -7.04462124e-01, -1.41219824e-01,\n",
       "        -9.61709804e-01, -4.73725072e-01,  8.66401000e-01,\n",
       "        -2.21939151e-01, -5.22167439e-01, -3.18681519e-01,\n",
       "        -8.70651970e-01, -8.63709761e-01],\n",
       "       [-1.12492164e+00,  9.31033872e-01,  7.84043064e-01,\n",
       "         8.15319480e-01,  1.76384419e+00,  1.50886854e-01,\n",
       "        -4.20642246e-01,  4.21120226e-01, -2.16728640e-01,\n",
       "         2.28423594e-01, -2.56536604e-01],\n",
       "       [-4.02544982e-01,  5.30143363e-02,  2.04831252e-01,\n",
       "        -1.03959298e-01, -4.94197383e-01, -7.72838256e-01,\n",
       "        -3.66136816e-01,  2.23897847e-01, -3.01777232e-01,\n",
       "        -2.43751285e-01, -6.16087112e-01],\n",
       "       [-1.29118981e-01, -6.17514668e-01,  2.00127954e+01,\n",
       "         4.25193937e-01,  4.32490626e-01,  2.16006692e-01,\n",
       "         1.33414767e+00,  2.36390552e-01,  1.83693113e-01,\n",
       "         9.64029463e-02, -9.64879136e-01],\n",
       "       [ 4.85185488e-01, -1.82787031e-01, -2.75860314e-01,\n",
       "        -1.08208577e-01, -3.74459698e-01, -2.27983464e-01,\n",
       "        -1.62484295e-01,  1.53570646e-01, -1.11169532e-01,\n",
       "         1.79509128e+00,  9.18034046e-01],\n",
       "       [ 1.16217480e+00, -1.39438589e+00, -1.44923699e-02,\n",
       "        -1.57282871e+00,  1.74426024e+00,  1.82577127e-02,\n",
       "        -4.35330101e-01, -2.80820193e+00, -3.12221523e-01,\n",
       "        -9.03378518e-01, -1.38649643e+00],\n",
       "       [-9.78811471e-01, -2.13445327e-01,  1.51729282e-01,\n",
       "         8.18947878e-01, -4.84466959e-01,  9.54210434e-01,\n",
       "        -1.86593437e-01,  7.49083870e-01, -2.06247455e-01,\n",
       "        -1.38974691e-01, -5.93305090e-01],\n",
       "       [ 1.02748110e+00, -1.09787917e+00,  4.18645225e-03,\n",
       "        -9.97260987e-01,  1.90570897e+00, -9.12183400e-02,\n",
       "        -2.65975860e-01, -8.23275473e-01, -3.11424620e-01,\n",
       "        -1.11463202e+00, -1.12291837e+00],\n",
       "       [-7.17282464e-01,  9.78425794e-01, -4.83365404e-02,\n",
       "         6.98130239e-01, -4.90238629e-01, -9.88222990e-01,\n",
       "        -3.74117542e-01,  5.82021628e-01, -1.66434820e-01,\n",
       "         5.04306864e-02,  1.04261228e+00],\n",
       "       [-8.88963984e-01, -2.53523740e-01,  2.77371472e-01,\n",
       "         1.11762507e+00, -2.71394748e-01, -2.20909232e-03,\n",
       "         3.11789624e+00,  6.92430557e-01,  1.12734138e-02,\n",
       "         3.44462312e-01, -2.59405058e-02],\n",
       "       [ 1.02485157e+00,  3.46767965e-01, -3.46768510e-01,\n",
       "        -5.42923506e-01,  1.84120709e+00,  4.98484156e-02,\n",
       "        -2.33873653e-01, -4.26626375e-01, -1.44924333e-01,\n",
       "        -1.79776668e-01,  7.70119665e-01],\n",
       "       [ 7.63974854e-01, -1.28099060e+00,  4.10145395e+00,\n",
       "        -8.35158482e-01,  1.10677656e+00, -8.09461442e-02,\n",
       "        -2.31534817e-02, -9.21245900e-01, -1.62023640e-01,\n",
       "        -4.52689665e-01, -1.23135851e+00],\n",
       "       [ 8.64272491e-01,  5.22362382e-01, -3.41258400e-01,\n",
       "        -6.57316754e-01, -4.62671601e-01, -8.76651191e-01,\n",
       "        -2.92694239e-01, -2.06225870e-01, -1.48665476e-01,\n",
       "        -3.02997662e-01,  5.03163576e-01],\n",
       "       [ 9.96513719e-01, -1.01830956e+00, -1.28238671e-01,\n",
       "        -1.07845792e+00, -4.61503629e-01, -8.98172201e-01,\n",
       "        -2.28145486e-01, -7.05651367e-01, -3.33501948e-01,\n",
       "        -8.50322588e-01, -1.06381824e+00],\n",
       "       [ 7.19225093e-01, -8.64294242e-01, -2.69549413e-02,\n",
       "        -8.60678542e-01, -4.84494004e-01,  1.88255157e-01,\n",
       "        -2.96956192e-01, -4.71575472e-01, -3.17297665e-01,\n",
       "         1.20039746e+00, -8.39860010e-01],\n",
       "       [-1.10518236e+00, -6.59684592e-01, -2.34285264e-01,\n",
       "         1.29165090e+00,  1.79557458e+00,  9.57642011e-02,\n",
       "         2.14078404e-01,  6.41578463e-01, -2.07790719e-01,\n",
       "         4.97116457e-01, -3.79220404e-01]])"
      ]
     },
     "metadata": {},
     "execution_count": 11
    }
   ],
   "source": [
    "kmeans.cluster_centers_"
   ]
  },
  {
   "cell_type": "code",
   "execution_count": 12,
   "metadata": {},
   "outputs": [],
   "source": [
    "labels = kmeans.predict(spotify_df_scaled)"
   ]
  },
  {
   "cell_type": "code",
   "execution_count": 13,
   "metadata": {},
   "outputs": [
    {
     "output_type": "execute_result",
     "data": {
      "text/plain": [
       "                        acousticness                             artists  \\\n",
       "id                                                                         \n",
       "0cS0A1fUEUd1EW3FcF8AEI      0.991000                     ['Mamie Smith']   \n",
       "0hbkKFIJm7Z05H8Zl9w30f      0.643000           [\"Screamin' Jay Hawkins\"]   \n",
       "11m7laMUgmOKqI3oYzuhne      0.993000                     ['Mamie Smith']   \n",
       "19Lc5SfJJ5O1oaxY0fpwfh      0.000173                 ['Oscar Velazquez']   \n",
       "2hJjbsLCytGsnAHfdsLejp      0.295000                            ['Mixe']   \n",
       "...                              ...                                 ...   \n",
       "46LhBf6TvYjZU2SMvGZAbn      0.009170  ['DJ Combo', 'Sander-7', 'Tony T']   \n",
       "7tue2Wemjd0FZzRtDrQFZd      0.795000                    ['Alessia Cara']   \n",
       "48Qj61hOdYmUCFJbpQ29Ob      0.806000                       ['Roger Fly']   \n",
       "1gcyHQpBQ1lfXGdhZmWrHP      0.920000                    ['Taylor Swift']   \n",
       "57tgYkWQTNHVFEt6xDKKZj      0.239000                       ['Roger Fly']   \n",
       "\n",
       "                        danceability  duration_ms  energy  explicit  \\\n",
       "id                                                                    \n",
       "0cS0A1fUEUd1EW3FcF8AEI         0.598       168333   0.224         0   \n",
       "0hbkKFIJm7Z05H8Zl9w30f         0.852       150200   0.517         0   \n",
       "11m7laMUgmOKqI3oYzuhne         0.647       163827   0.186         0   \n",
       "19Lc5SfJJ5O1oaxY0fpwfh         0.730       422087   0.798         0   \n",
       "2hJjbsLCytGsnAHfdsLejp         0.704       165224   0.707         1   \n",
       "...                              ...          ...     ...       ...   \n",
       "46LhBf6TvYjZU2SMvGZAbn         0.792       147615   0.866         0   \n",
       "7tue2Wemjd0FZzRtDrQFZd         0.429       144720   0.211         0   \n",
       "48Qj61hOdYmUCFJbpQ29Ob         0.671       218147   0.589         0   \n",
       "1gcyHQpBQ1lfXGdhZmWrHP         0.462       244000   0.240         1   \n",
       "57tgYkWQTNHVFEt6xDKKZj         0.677       197710   0.460         0   \n",
       "\n",
       "                        instrumentalness  key  liveness  loudness  mode  \\\n",
       "id                                                                        \n",
       "0cS0A1fUEUd1EW3FcF8AEI          0.000522    5    0.3790   -12.628     0   \n",
       "0hbkKFIJm7Z05H8Zl9w30f          0.026400    5    0.0809    -7.261     0   \n",
       "11m7laMUgmOKqI3oYzuhne          0.000018    0    0.5190   -12.098     1   \n",
       "19Lc5SfJJ5O1oaxY0fpwfh          0.801000    2    0.1280    -7.311     1   \n",
       "2hJjbsLCytGsnAHfdsLejp          0.000246   10    0.4020    -6.036     0   \n",
       "...                                  ...  ...       ...       ...   ...   \n",
       "46LhBf6TvYjZU2SMvGZAbn          0.000060    6    0.1780    -5.089     0   \n",
       "7tue2Wemjd0FZzRtDrQFZd          0.000000    4    0.1960   -11.665     1   \n",
       "48Qj61hOdYmUCFJbpQ29Ob          0.920000    4    0.1130   -12.393     0   \n",
       "1gcyHQpBQ1lfXGdhZmWrHP          0.000000    0    0.1130   -12.077     1   \n",
       "57tgYkWQTNHVFEt6xDKKZj          0.891000    7    0.2150   -12.237     1   \n",
       "\n",
       "                                                                     name  \\\n",
       "id                                                                          \n",
       "0cS0A1fUEUd1EW3FcF8AEI                           Keep A Song In Your Soul   \n",
       "0hbkKFIJm7Z05H8Zl9w30f                               I Put A Spell On You   \n",
       "11m7laMUgmOKqI3oYzuhne                                       Golfing Papa   \n",
       "19Lc5SfJJ5O1oaxY0fpwfh  True House Music - Xavier Santos & Carlos Gomi...   \n",
       "2hJjbsLCytGsnAHfdsLejp                                          Xuniverxe   \n",
       "...                                                                   ...   \n",
       "46LhBf6TvYjZU2SMvGZAbn                                            The One   \n",
       "7tue2Wemjd0FZzRtDrQFZd                                      A Little More   \n",
       "48Qj61hOdYmUCFJbpQ29Ob                                           Together   \n",
       "1gcyHQpBQ1lfXGdhZmWrHP                                 champagne problems   \n",
       "57tgYkWQTNHVFEt6xDKKZj                                     Improvisations   \n",
       "\n",
       "                        popularity release_date  speechiness    tempo  \\\n",
       "id                                                                      \n",
       "0cS0A1fUEUd1EW3FcF8AEI          12         1920       0.0936  149.976   \n",
       "0hbkKFIJm7Z05H8Zl9w30f           7   1920-01-05       0.0534   86.889   \n",
       "11m7laMUgmOKqI3oYzuhne           4         1920       0.1740   97.600   \n",
       "19Lc5SfJJ5O1oaxY0fpwfh          17   1920-01-01       0.0425  127.997   \n",
       "2hJjbsLCytGsnAHfdsLejp           2   1920-10-01       0.0768  122.076   \n",
       "...                            ...          ...          ...      ...   \n",
       "46LhBf6TvYjZU2SMvGZAbn           0   2020-12-25       0.0356  125.972   \n",
       "7tue2Wemjd0FZzRtDrQFZd           0   2021-01-22       0.0360   94.710   \n",
       "48Qj61hOdYmUCFJbpQ29Ob           0   2020-12-09       0.0282  108.058   \n",
       "1gcyHQpBQ1lfXGdhZmWrHP          69   2021-01-07       0.0377  171.319   \n",
       "57tgYkWQTNHVFEt6xDKKZj           0   2020-12-09       0.0258  112.208   \n",
       "\n",
       "                        valence  year  label  \n",
       "id                                            \n",
       "0cS0A1fUEUd1EW3FcF8AEI   0.6340  1920     13  \n",
       "0hbkKFIJm7Z05H8Zl9w30f   0.9500  1920      6  \n",
       "11m7laMUgmOKqI3oYzuhne   0.6890  1920     21  \n",
       "19Lc5SfJJ5O1oaxY0fpwfh   0.0422  1920     10  \n",
       "2hJjbsLCytGsnAHfdsLejp   0.2990  1920     15  \n",
       "...                         ...   ...    ...  \n",
       "46LhBf6TvYjZU2SMvGZAbn   0.1860  2020     15  \n",
       "7tue2Wemjd0FZzRtDrQFZd   0.2280  2021     22  \n",
       "48Qj61hOdYmUCFJbpQ29Ob   0.7140  2020     19  \n",
       "1gcyHQpBQ1lfXGdhZmWrHP   0.3200  2021     23  \n",
       "57tgYkWQTNHVFEt6xDKKZj   0.7470  2020     19  \n",
       "\n",
       "[174389 rows x 19 columns]"
      ],
      "text/html": "<div>\n<style scoped>\n    .dataframe tbody tr th:only-of-type {\n        vertical-align: middle;\n    }\n\n    .dataframe tbody tr th {\n        vertical-align: top;\n    }\n\n    .dataframe thead th {\n        text-align: right;\n    }\n</style>\n<table border=\"1\" class=\"dataframe\">\n  <thead>\n    <tr style=\"text-align: right;\">\n      <th></th>\n      <th>acousticness</th>\n      <th>artists</th>\n      <th>danceability</th>\n      <th>duration_ms</th>\n      <th>energy</th>\n      <th>explicit</th>\n      <th>instrumentalness</th>\n      <th>key</th>\n      <th>liveness</th>\n      <th>loudness</th>\n      <th>mode</th>\n      <th>name</th>\n      <th>popularity</th>\n      <th>release_date</th>\n      <th>speechiness</th>\n      <th>tempo</th>\n      <th>valence</th>\n      <th>year</th>\n      <th>label</th>\n    </tr>\n    <tr>\n      <th>id</th>\n      <th></th>\n      <th></th>\n      <th></th>\n      <th></th>\n      <th></th>\n      <th></th>\n      <th></th>\n      <th></th>\n      <th></th>\n      <th></th>\n      <th></th>\n      <th></th>\n      <th></th>\n      <th></th>\n      <th></th>\n      <th></th>\n      <th></th>\n      <th></th>\n      <th></th>\n    </tr>\n  </thead>\n  <tbody>\n    <tr>\n      <th>0cS0A1fUEUd1EW3FcF8AEI</th>\n      <td>0.991000</td>\n      <td>['Mamie Smith']</td>\n      <td>0.598</td>\n      <td>168333</td>\n      <td>0.224</td>\n      <td>0</td>\n      <td>0.000522</td>\n      <td>5</td>\n      <td>0.3790</td>\n      <td>-12.628</td>\n      <td>0</td>\n      <td>Keep A Song In Your Soul</td>\n      <td>12</td>\n      <td>1920</td>\n      <td>0.0936</td>\n      <td>149.976</td>\n      <td>0.6340</td>\n      <td>1920</td>\n      <td>13</td>\n    </tr>\n    <tr>\n      <th>0hbkKFIJm7Z05H8Zl9w30f</th>\n      <td>0.643000</td>\n      <td>[\"Screamin' Jay Hawkins\"]</td>\n      <td>0.852</td>\n      <td>150200</td>\n      <td>0.517</td>\n      <td>0</td>\n      <td>0.026400</td>\n      <td>5</td>\n      <td>0.0809</td>\n      <td>-7.261</td>\n      <td>0</td>\n      <td>I Put A Spell On You</td>\n      <td>7</td>\n      <td>1920-01-05</td>\n      <td>0.0534</td>\n      <td>86.889</td>\n      <td>0.9500</td>\n      <td>1920</td>\n      <td>6</td>\n    </tr>\n    <tr>\n      <th>11m7laMUgmOKqI3oYzuhne</th>\n      <td>0.993000</td>\n      <td>['Mamie Smith']</td>\n      <td>0.647</td>\n      <td>163827</td>\n      <td>0.186</td>\n      <td>0</td>\n      <td>0.000018</td>\n      <td>0</td>\n      <td>0.5190</td>\n      <td>-12.098</td>\n      <td>1</td>\n      <td>Golfing Papa</td>\n      <td>4</td>\n      <td>1920</td>\n      <td>0.1740</td>\n      <td>97.600</td>\n      <td>0.6890</td>\n      <td>1920</td>\n      <td>21</td>\n    </tr>\n    <tr>\n      <th>19Lc5SfJJ5O1oaxY0fpwfh</th>\n      <td>0.000173</td>\n      <td>['Oscar Velazquez']</td>\n      <td>0.730</td>\n      <td>422087</td>\n      <td>0.798</td>\n      <td>0</td>\n      <td>0.801000</td>\n      <td>2</td>\n      <td>0.1280</td>\n      <td>-7.311</td>\n      <td>1</td>\n      <td>True House Music - Xavier Santos &amp; Carlos Gomi...</td>\n      <td>17</td>\n      <td>1920-01-01</td>\n      <td>0.0425</td>\n      <td>127.997</td>\n      <td>0.0422</td>\n      <td>1920</td>\n      <td>10</td>\n    </tr>\n    <tr>\n      <th>2hJjbsLCytGsnAHfdsLejp</th>\n      <td>0.295000</td>\n      <td>['Mixe']</td>\n      <td>0.704</td>\n      <td>165224</td>\n      <td>0.707</td>\n      <td>1</td>\n      <td>0.000246</td>\n      <td>10</td>\n      <td>0.4020</td>\n      <td>-6.036</td>\n      <td>0</td>\n      <td>Xuniverxe</td>\n      <td>2</td>\n      <td>1920-10-01</td>\n      <td>0.0768</td>\n      <td>122.076</td>\n      <td>0.2990</td>\n      <td>1920</td>\n      <td>15</td>\n    </tr>\n    <tr>\n      <th>...</th>\n      <td>...</td>\n      <td>...</td>\n      <td>...</td>\n      <td>...</td>\n      <td>...</td>\n      <td>...</td>\n      <td>...</td>\n      <td>...</td>\n      <td>...</td>\n      <td>...</td>\n      <td>...</td>\n      <td>...</td>\n      <td>...</td>\n      <td>...</td>\n      <td>...</td>\n      <td>...</td>\n      <td>...</td>\n      <td>...</td>\n      <td>...</td>\n    </tr>\n    <tr>\n      <th>46LhBf6TvYjZU2SMvGZAbn</th>\n      <td>0.009170</td>\n      <td>['DJ Combo', 'Sander-7', 'Tony T']</td>\n      <td>0.792</td>\n      <td>147615</td>\n      <td>0.866</td>\n      <td>0</td>\n      <td>0.000060</td>\n      <td>6</td>\n      <td>0.1780</td>\n      <td>-5.089</td>\n      <td>0</td>\n      <td>The One</td>\n      <td>0</td>\n      <td>2020-12-25</td>\n      <td>0.0356</td>\n      <td>125.972</td>\n      <td>0.1860</td>\n      <td>2020</td>\n      <td>15</td>\n    </tr>\n    <tr>\n      <th>7tue2Wemjd0FZzRtDrQFZd</th>\n      <td>0.795000</td>\n      <td>['Alessia Cara']</td>\n      <td>0.429</td>\n      <td>144720</td>\n      <td>0.211</td>\n      <td>0</td>\n      <td>0.000000</td>\n      <td>4</td>\n      <td>0.1960</td>\n      <td>-11.665</td>\n      <td>1</td>\n      <td>A Little More</td>\n      <td>0</td>\n      <td>2021-01-22</td>\n      <td>0.0360</td>\n      <td>94.710</td>\n      <td>0.2280</td>\n      <td>2021</td>\n      <td>22</td>\n    </tr>\n    <tr>\n      <th>48Qj61hOdYmUCFJbpQ29Ob</th>\n      <td>0.806000</td>\n      <td>['Roger Fly']</td>\n      <td>0.671</td>\n      <td>218147</td>\n      <td>0.589</td>\n      <td>0</td>\n      <td>0.920000</td>\n      <td>4</td>\n      <td>0.1130</td>\n      <td>-12.393</td>\n      <td>0</td>\n      <td>Together</td>\n      <td>0</td>\n      <td>2020-12-09</td>\n      <td>0.0282</td>\n      <td>108.058</td>\n      <td>0.7140</td>\n      <td>2020</td>\n      <td>19</td>\n    </tr>\n    <tr>\n      <th>1gcyHQpBQ1lfXGdhZmWrHP</th>\n      <td>0.920000</td>\n      <td>['Taylor Swift']</td>\n      <td>0.462</td>\n      <td>244000</td>\n      <td>0.240</td>\n      <td>1</td>\n      <td>0.000000</td>\n      <td>0</td>\n      <td>0.1130</td>\n      <td>-12.077</td>\n      <td>1</td>\n      <td>champagne problems</td>\n      <td>69</td>\n      <td>2021-01-07</td>\n      <td>0.0377</td>\n      <td>171.319</td>\n      <td>0.3200</td>\n      <td>2021</td>\n      <td>23</td>\n    </tr>\n    <tr>\n      <th>57tgYkWQTNHVFEt6xDKKZj</th>\n      <td>0.239000</td>\n      <td>['Roger Fly']</td>\n      <td>0.677</td>\n      <td>197710</td>\n      <td>0.460</td>\n      <td>0</td>\n      <td>0.891000</td>\n      <td>7</td>\n      <td>0.2150</td>\n      <td>-12.237</td>\n      <td>1</td>\n      <td>Improvisations</td>\n      <td>0</td>\n      <td>2020-12-09</td>\n      <td>0.0258</td>\n      <td>112.208</td>\n      <td>0.7470</td>\n      <td>2020</td>\n      <td>19</td>\n    </tr>\n  </tbody>\n</table>\n<p>174389 rows × 19 columns</p>\n</div>"
     },
     "metadata": {},
     "execution_count": 13
    }
   ],
   "source": [
    "spotify_df[\"label\"] = labels\n",
    "spotify_df"
   ]
  },
  {
   "cell_type": "code",
   "execution_count": 14,
   "metadata": {},
   "outputs": [],
   "source": [
    "# save labeled df to csv \n",
    "spotify_df.to_csv(\"data/spotify_data_labeled.csv\")"
   ]
  },
  {
   "cell_type": "code",
   "execution_count": 16,
   "metadata": {},
   "outputs": [
    {
     "output_type": "execute_result",
     "data": {
      "text/plain": [
       "['model/kmeans.joblib']"
      ]
     },
     "metadata": {},
     "execution_count": 16
    }
   ],
   "source": [
    "# export scaler \n",
    "joblib.dump(spotify_scaler, \"model/scaler.joblib\")\n",
    "# export model\n",
    "joblib.dump(kmeans, \"model/kmeans.joblib\")"
   ]
  }
 ]
}