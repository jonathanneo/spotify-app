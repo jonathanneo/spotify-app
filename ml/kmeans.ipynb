{
 "metadata": {
  "language_info": {
   "codemirror_mode": {
    "name": "ipython",
    "version": 3
   },
   "file_extension": ".py",
   "mimetype": "text/x-python",
   "name": "python",
   "nbconvert_exporter": "python",
   "pygments_lexer": "ipython3",
   "version": "3.8.5-final"
  },
  "orig_nbformat": 2,
  "kernelspec": {
   "name": "python3",
   "display_name": "Python 3.8.5 64-bit ('spotify': conda)",
   "metadata": {
    "interpreter": {
     "hash": "a6734130388b60d2adfe9a41ba3ffb192d5b173694da81b45e75d546d4eae05c"
    }
   }
  }
 },
 "nbformat": 4,
 "nbformat_minor": 2,
 "cells": [
  {
   "cell_type": "code",
   "execution_count": 2,
   "metadata": {},
   "outputs": [],
   "source": [
    "import matplotlib.pyplot as plt\n",
    "from kneed import KneeLocator\n",
    "from sklearn.cluster import KMeans\n",
    "from sklearn.metrics import silhouette_score\n",
    "from sklearn.preprocessing import StandardScaler\n",
    "import pandas as pd "
   ]
  },
  {
   "cell_type": "code",
   "execution_count": 3,
   "metadata": {},
   "outputs": [
    {
     "output_type": "execute_result",
     "data": {
      "text/plain": [
       "                        acousticness                    artists  danceability  \\\n",
       "id                                                                              \n",
       "0cS0A1fUEUd1EW3FcF8AEI      0.991000            ['Mamie Smith']         0.598   \n",
       "0hbkKFIJm7Z05H8Zl9w30f      0.643000  [\"Screamin' Jay Hawkins\"]         0.852   \n",
       "11m7laMUgmOKqI3oYzuhne      0.993000            ['Mamie Smith']         0.647   \n",
       "19Lc5SfJJ5O1oaxY0fpwfh      0.000173        ['Oscar Velazquez']         0.730   \n",
       "2hJjbsLCytGsnAHfdsLejp      0.295000                   ['Mixe']         0.704   \n",
       "\n",
       "                        duration_ms  energy  explicit  instrumentalness  key  \\\n",
       "id                                                                             \n",
       "0cS0A1fUEUd1EW3FcF8AEI       168333   0.224         0          0.000522    5   \n",
       "0hbkKFIJm7Z05H8Zl9w30f       150200   0.517         0          0.026400    5   \n",
       "11m7laMUgmOKqI3oYzuhne       163827   0.186         0          0.000018    0   \n",
       "19Lc5SfJJ5O1oaxY0fpwfh       422087   0.798         0          0.801000    2   \n",
       "2hJjbsLCytGsnAHfdsLejp       165224   0.707         1          0.000246   10   \n",
       "\n",
       "                        liveness  loudness  mode  \\\n",
       "id                                                 \n",
       "0cS0A1fUEUd1EW3FcF8AEI    0.3790   -12.628     0   \n",
       "0hbkKFIJm7Z05H8Zl9w30f    0.0809    -7.261     0   \n",
       "11m7laMUgmOKqI3oYzuhne    0.5190   -12.098     1   \n",
       "19Lc5SfJJ5O1oaxY0fpwfh    0.1280    -7.311     1   \n",
       "2hJjbsLCytGsnAHfdsLejp    0.4020    -6.036     0   \n",
       "\n",
       "                                                                     name  \\\n",
       "id                                                                          \n",
       "0cS0A1fUEUd1EW3FcF8AEI                           Keep A Song In Your Soul   \n",
       "0hbkKFIJm7Z05H8Zl9w30f                               I Put A Spell On You   \n",
       "11m7laMUgmOKqI3oYzuhne                                       Golfing Papa   \n",
       "19Lc5SfJJ5O1oaxY0fpwfh  True House Music - Xavier Santos & Carlos Gomi...   \n",
       "2hJjbsLCytGsnAHfdsLejp                                          Xuniverxe   \n",
       "\n",
       "                        popularity release_date  speechiness    tempo  \\\n",
       "id                                                                      \n",
       "0cS0A1fUEUd1EW3FcF8AEI          12         1920       0.0936  149.976   \n",
       "0hbkKFIJm7Z05H8Zl9w30f           7   1920-01-05       0.0534   86.889   \n",
       "11m7laMUgmOKqI3oYzuhne           4         1920       0.1740   97.600   \n",
       "19Lc5SfJJ5O1oaxY0fpwfh          17   1920-01-01       0.0425  127.997   \n",
       "2hJjbsLCytGsnAHfdsLejp           2   1920-10-01       0.0768  122.076   \n",
       "\n",
       "                        valence  year  \n",
       "id                                     \n",
       "0cS0A1fUEUd1EW3FcF8AEI   0.6340  1920  \n",
       "0hbkKFIJm7Z05H8Zl9w30f   0.9500  1920  \n",
       "11m7laMUgmOKqI3oYzuhne   0.6890  1920  \n",
       "19Lc5SfJJ5O1oaxY0fpwfh   0.0422  1920  \n",
       "2hJjbsLCytGsnAHfdsLejp   0.2990  1920  "
      ],
      "text/html": "<div>\n<style scoped>\n    .dataframe tbody tr th:only-of-type {\n        vertical-align: middle;\n    }\n\n    .dataframe tbody tr th {\n        vertical-align: top;\n    }\n\n    .dataframe thead th {\n        text-align: right;\n    }\n</style>\n<table border=\"1\" class=\"dataframe\">\n  <thead>\n    <tr style=\"text-align: right;\">\n      <th></th>\n      <th>acousticness</th>\n      <th>artists</th>\n      <th>danceability</th>\n      <th>duration_ms</th>\n      <th>energy</th>\n      <th>explicit</th>\n      <th>instrumentalness</th>\n      <th>key</th>\n      <th>liveness</th>\n      <th>loudness</th>\n      <th>mode</th>\n      <th>name</th>\n      <th>popularity</th>\n      <th>release_date</th>\n      <th>speechiness</th>\n      <th>tempo</th>\n      <th>valence</th>\n      <th>year</th>\n    </tr>\n    <tr>\n      <th>id</th>\n      <th></th>\n      <th></th>\n      <th></th>\n      <th></th>\n      <th></th>\n      <th></th>\n      <th></th>\n      <th></th>\n      <th></th>\n      <th></th>\n      <th></th>\n      <th></th>\n      <th></th>\n      <th></th>\n      <th></th>\n      <th></th>\n      <th></th>\n      <th></th>\n    </tr>\n  </thead>\n  <tbody>\n    <tr>\n      <th>0cS0A1fUEUd1EW3FcF8AEI</th>\n      <td>0.991000</td>\n      <td>['Mamie Smith']</td>\n      <td>0.598</td>\n      <td>168333</td>\n      <td>0.224</td>\n      <td>0</td>\n      <td>0.000522</td>\n      <td>5</td>\n      <td>0.3790</td>\n      <td>-12.628</td>\n      <td>0</td>\n      <td>Keep A Song In Your Soul</td>\n      <td>12</td>\n      <td>1920</td>\n      <td>0.0936</td>\n      <td>149.976</td>\n      <td>0.6340</td>\n      <td>1920</td>\n    </tr>\n    <tr>\n      <th>0hbkKFIJm7Z05H8Zl9w30f</th>\n      <td>0.643000</td>\n      <td>[\"Screamin' Jay Hawkins\"]</td>\n      <td>0.852</td>\n      <td>150200</td>\n      <td>0.517</td>\n      <td>0</td>\n      <td>0.026400</td>\n      <td>5</td>\n      <td>0.0809</td>\n      <td>-7.261</td>\n      <td>0</td>\n      <td>I Put A Spell On You</td>\n      <td>7</td>\n      <td>1920-01-05</td>\n      <td>0.0534</td>\n      <td>86.889</td>\n      <td>0.9500</td>\n      <td>1920</td>\n    </tr>\n    <tr>\n      <th>11m7laMUgmOKqI3oYzuhne</th>\n      <td>0.993000</td>\n      <td>['Mamie Smith']</td>\n      <td>0.647</td>\n      <td>163827</td>\n      <td>0.186</td>\n      <td>0</td>\n      <td>0.000018</td>\n      <td>0</td>\n      <td>0.5190</td>\n      <td>-12.098</td>\n      <td>1</td>\n      <td>Golfing Papa</td>\n      <td>4</td>\n      <td>1920</td>\n      <td>0.1740</td>\n      <td>97.600</td>\n      <td>0.6890</td>\n      <td>1920</td>\n    </tr>\n    <tr>\n      <th>19Lc5SfJJ5O1oaxY0fpwfh</th>\n      <td>0.000173</td>\n      <td>['Oscar Velazquez']</td>\n      <td>0.730</td>\n      <td>422087</td>\n      <td>0.798</td>\n      <td>0</td>\n      <td>0.801000</td>\n      <td>2</td>\n      <td>0.1280</td>\n      <td>-7.311</td>\n      <td>1</td>\n      <td>True House Music - Xavier Santos &amp; Carlos Gomi...</td>\n      <td>17</td>\n      <td>1920-01-01</td>\n      <td>0.0425</td>\n      <td>127.997</td>\n      <td>0.0422</td>\n      <td>1920</td>\n    </tr>\n    <tr>\n      <th>2hJjbsLCytGsnAHfdsLejp</th>\n      <td>0.295000</td>\n      <td>['Mixe']</td>\n      <td>0.704</td>\n      <td>165224</td>\n      <td>0.707</td>\n      <td>1</td>\n      <td>0.000246</td>\n      <td>10</td>\n      <td>0.4020</td>\n      <td>-6.036</td>\n      <td>0</td>\n      <td>Xuniverxe</td>\n      <td>2</td>\n      <td>1920-10-01</td>\n      <td>0.0768</td>\n      <td>122.076</td>\n      <td>0.2990</td>\n      <td>1920</td>\n    </tr>\n  </tbody>\n</table>\n</div>"
     },
     "metadata": {},
     "execution_count": 3
    }
   ],
   "source": [
    "filePath = \"data/data.csv\" \n",
    "spotify_df = pd.read_csv(filePath)\n",
    "spotify_df = spotify_df.set_index(\"id\")\n",
    "spotify_df.head(5)"
   ]
  },
  {
   "cell_type": "code",
   "execution_count": 4,
   "metadata": {},
   "outputs": [],
   "source": [
    "spotify_df_features = spotify_df[[\"acousticness\", \"danceability\", \"duration_ms\", \"energy\", \"instrumentalness\", \"key\", \"liveness\", \"loudness\", \"speechiness\", \"tempo\", \"valence\"]]"
   ]
  },
  {
   "cell_type": "code",
   "execution_count": 5,
   "metadata": {},
   "outputs": [],
   "source": [
    "scaler = StandardScaler()\n",
    "spotify_scaler = scaler.fit(spotify_df_features) # save later \n",
    "spotify_df_scaled = spotify_scaler.transform(spotify_df_features)"
   ]
  },
  {
   "cell_type": "code",
   "execution_count": 6,
   "metadata": {},
   "outputs": [],
   "source": [
    "run_analysis = False "
   ]
  },
  {
   "cell_type": "code",
   "execution_count": 7,
   "metadata": {},
   "outputs": [],
   "source": [
    "kmeans_kwargs = {\n",
    "    \"init\": \"k-means++\",\n",
    "    \"n_init\": 10,\n",
    "    \"max_iter\": 300,\n",
    "    \"random_state\": 42\n",
    "}\n",
    "\n",
    "if run_analysis: \n",
    "    n_cluster_start = 2\n",
    "    n_cluster_end = 25 \n",
    "\n",
    "    sse = []\n",
    "    silhouette_coefficients = []\n",
    "    for i in range(n_cluster_start, n_cluster_end): \n",
    "        kmeans = KMeans(n_clusters=i, **kmeans_kwargs)\n",
    "        kmeans.fit(spotify_df_scaled)\n",
    "        sse.append(kmeans.inertia_)\n",
    "        score = silhouette_score(spotify_df_scaled, kmeans.labels_) \n",
    "        silhouette_coefficients.append(score)"
   ]
  },
  {
   "cell_type": "code",
   "execution_count": 8,
   "metadata": {},
   "outputs": [],
   "source": [
    "if run_analysis:\n",
    "    plt.plot(range(n_cluster_start, n_cluster_end), sse)\n",
    "    plt.xticks(range(n_cluster_start, n_cluster_end))\n",
    "    plt.xlabel(\"Number of Clusters\")\n",
    "    plt.ylabel(\"SSE\")\n",
    "    plt.show()"
   ]
  },
  {
   "cell_type": "code",
   "execution_count": 9,
   "metadata": {},
   "outputs": [],
   "source": [
    "if run_analysis:\n",
    "    kl = KneeLocator(range(n_cluster_start,n_cluster_end), sse, curve=\"convex\", direction=\"decreasing\")\n",
    "    kl.elbow"
   ]
  },
  {
   "cell_type": "code",
   "execution_count": 10,
   "metadata": {},
   "outputs": [],
   "source": [
    "if run_analysis:\n",
    "    plt.plot(range(n_cluster_start, n_cluster_end), silhouette_coefficients)\n",
    "    plt.xticks(range(n_cluster_start, n_cluster_end))\n",
    "    plt.xlabel(\"Number of Clusters\")\n",
    "    plt.ylabel(\"Silhouette Coefficient\")\n",
    "    plt.show()"
   ]
  },
  {
   "cell_type": "code",
   "execution_count": 11,
   "metadata": {},
   "outputs": [
    {
     "output_type": "execute_result",
     "data": {
      "text/plain": [
       "KMeans(random_state=42)"
      ]
     },
     "metadata": {},
     "execution_count": 11
    }
   ],
   "source": [
    "# create model from elbow \n",
    "kmeans = KMeans(n_clusters=8, **kmeans_kwargs)\n",
    "kmeans.fit(spotify_df_scaled)"
   ]
  },
  {
   "cell_type": "code",
   "execution_count": 13,
   "metadata": {},
   "outputs": [
    {
     "output_type": "execute_result",
     "data": {
      "text/plain": [
       "['model/kmeans.joblib']"
      ]
     },
     "metadata": {},
     "execution_count": 13
    }
   ],
   "source": [
    "from joblib import dump, load\n",
    "# export scaler \n",
    "dump(spotify_scaler, \"model/scaler.joblib\")\n",
    "# export model\n",
    "dump(kmeans, \"model/kmeans.joblib\")"
   ]
  }
 ]
}